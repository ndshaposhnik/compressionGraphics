{
 "cells": [
  {
   "cell_type": "code",
   "execution_count": 1,
   "id": "45871177",
   "metadata": {},
   "outputs": [],
   "source": [
    "from sklearn.datasets import make_blobs\n",
    "import numpy as np\n",
    "import matplotlib.pyplot as plt\n",
    "from tabulate import tabulate\n",
    "from lib.functions import LogisticRegression\n",
    "import lib.load_datasets as load_datasets\n",
    "from lib.compressions import *\n",
    "from lib.gradient_descent import *\n",
    "from functools import partial"
   ]
  },
  {
   "cell_type": "code",
   "execution_count": 2,
   "id": "e7895e47",
   "metadata": {},
   "outputs": [],
   "source": [
    "X, y = load_datasets.dataset_to_X_y('diabetes.csv', normalize=True, nrows=500)\n",
    "#X, y = make_blobs(n_samples=500, centers=2, n_features=5, random_state=0)\n",
    "function = LogisticRegression(X, y)\n",
    "dim = function.getDimention()\n",
    "alpha = 0.0001"
   ]
  },
  {
   "cell_type": "code",
   "execution_count": 3,
   "id": "8cd8c3b7",
   "metadata": {},
   "outputs": [],
   "source": [
    "base_experiments = [\n",
    "    #compressedGD(function, name='Without', compressor=Compressor(topK, k=dim), alpha=0.0001),\n",
    "    #compressedGD(function, name='Top-k, k=d/3', compressor=Compressor(topK, k=dim//3), alpha=alpha),\n",
    "    compressedGD(function, name='Top-k, k=d/2', compressor=Compressor(topK, k=dim//2), alpha=alpha),\n",
    "    #compressedGD(function, name='Top-k, k=1', compressor=Compressor(topK, k=1), alpha=alpha),\n",
    "    #compressedGD(function, name='Rand-k, k=d/3', compressor=Compressor(uniformCompression, k=dim//3), alpha=alpha),\n",
    "    #compressedGD(function, name='Rand-k, k=1', compressor=Compressor(uniformCompression, k=1), alpha=alpha),\n",
    "    stochasticCompressedGD(function, name='Ban 2 in a row, k=d/3', compressor=SmartCompressor(ban2InARow, k=dim//3), alpha=alpha),\n",
    "    stochasticCompressedGD(function, name='Reduce probability, k=d/3, penalty=0.5', compressor=SmartCompressor(partial(reduceProbability, penalty=0.5), k=dim//3), alpha=alpha),\n",
    "]"
   ]
  },
  {
   "cell_type": "code",
   "execution_count": 4,
   "id": "0b248af3",
   "metadata": {},
   "outputs": [],
   "source": [
    "new_experiments = [\n",
    "    stochasticCompressedGD(function, name='With penalty, k=d/3, step=0.333', compressor=SmartCompressor(partial(compressionWithPenalty, step=0.333), k=dim//3), alpha=alpha),\n",
    "]"
   ]
  },
  {
   "cell_type": "code",
   "execution_count": 14,
   "id": "76385ff9",
   "metadata": {},
   "outputs": [],
   "source": [
    "adaptive_experiments = [\n",
    "    adaptiveCompressedGD(function, name='topUnknown, beta=1', compressor=AdaptiveCompressor(partial(topUnknown, beta=1)), alpha=alpha),\n",
    "    adaptiveCompressedGD(function, name='topUnknown, beta=1.01', compressor=AdaptiveCompressor(partial(topUnknown, beta=1.01)), alpha=alpha),\n",
    "]"
   ]
  },
  {
   "cell_type": "code",
   "execution_count": 15,
   "id": "57dd03bc",
   "metadata": {},
   "outputs": [
    {
     "data": {
      "image/png": "[encoded data removed]",
      "text/plain": [
       "<Figure size 640x480 with 2 Axes>"
      ]
     },
     "metadata": {},
     "output_type": "display_data"
    }
   ],
   "source": [
    "fig, axs = plt.subplots(1, len(adaptive_experiments), tight_layout=True)\n",
    "for i, exp in enumerate(adaptive_experiments):\n",
    "    dictionary = exp['k_distribution']\n",
    "    axs[i].bar(list(dictionary.keys()), dictionary.values())\n",
    "    axs[i].set_title(exp['name'])\n",
    "\n",
    "plt.show()"
   ]
  },
  {
   "cell_type": "code",
   "execution_count": null,
   "id": "042e1d33",
   "metadata": {},
   "outputs": [],
   "source": [
    "experiments = base_experiments + new_experiments + adaptive_experiments\n",
    "experiments.sort(key=lambda exp : exp['coords'][-1])\n",
    "\n",
    "table = [\n",
    "    [\"compression\", \"num_iter\", \"transmitted coordinates\"],\n",
    "    *[\n",
    "        [exp['name'], exp['num_iter'], exp['coords'][-1]]\n",
    "        for exp in experiments\n",
    "    ]\n",
    "]\n",
    "print(tabulate(table))"
   ]
  },
  {
   "cell_type": "code",
   "execution_count": null,
   "id": "7a8fa488",
   "metadata": {},
   "outputs": [],
   "source": [
    "plt.figure(figsize=(10, 7))\n",
    "for exp in experiments:\n",
    "    plt.semilogy(\n",
    "        exp['coords'],\n",
    "        [grad_norm for grad_norm in exp['gradients']],\n",
    "        label=exp['name'],\n",
    "        linewidth=2\n",
    "    )\n",
    "plt.legend(loc=\"best\", fontsize=16)\n",
    "plt.xlabel(r\"Transmitted coordinates\", fontsize=20)\n",
    "plt.ylabel(r\"$\\|f'(x_k)\\|_2$\", fontsize=20)\n",
    "plt.xticks(fontsize=18)\n",
    "_ = plt.yticks(fontsize=18)"
   ]
  },
  {
   "cell_type": "code",
   "execution_count": null,
   "id": "d0f28122",
   "metadata": {},
   "outputs": [],
   "source": []
  }
 ],
 "metadata": {
  "kernelspec": {
   "display_name": "Python 3 (ipykernel)",
   "language": "python",
   "name": "python3"
  },
  "language_info": {
   "codemirror_mode": {
    "name": "ipython",
    "version": 3
   },
   "file_extension": ".py",
   "mimetype": "text/x-python",
   "name": "python",
   "nbconvert_exporter": "python",
   "pygments_lexer": "ipython3",
   "version": "3.10.12"
  }
 },
 "nbformat": 4,
 "nbformat_minor": 5
}
