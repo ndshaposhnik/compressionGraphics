{
 "cells": [
  {
   "cell_type": "code",
   "execution_count": 1,
   "id": "45871177",
   "metadata": {},
   "outputs": [],
   "source": [
    "from sklearn.datasets import make_blobs\n",
    "import numpy as np\n",
    "import matplotlib.pyplot as plt\n",
    "from tabulate import tabulate\n",
    "from lib.functions import LogisticRegression\n",
    "import lib.load_datasets as load_datasets\n",
    "from lib.compressions import *\n",
    "from lib.gradient_descent import *"
   ]
  },
  {
   "cell_type": "code",
   "execution_count": 2,
   "id": "e7895e47",
   "metadata": {},
   "outputs": [
    {
     "name": "stdout",
     "output_type": "stream",
     "text": [
      "9\n"
     ]
    }
   ],
   "source": [
    "X, y = load_datasets.dataset_to_X_y('diabetes.csv', normalize=True, nrows=500)\n",
    "# X, y = make_blobs(n_samples=500, centers=2, n_features=5, random_state=0)\n",
    "function = LogisticRegression(X, y)\n",
    "dim = function.getDimention()\n",
    "alpha = 0.0001 # for diabetes\n",
    "# alpha = 0.04 # for make_blobs\n",
    "print(dim)"
   ]
  },
  {
   "cell_type": "code",
   "execution_count": null,
   "id": "8cd8c3b7",
   "metadata": {},
   "outputs": [],
   "source": [
    "base_experiments = [\n",
    "    compressedGD(function, compressor=NoneCompressor(dim=dim), alpha=alpha),\n",
    "    compressedGD(function, compressor=TopKCompressor(dim=dim, alpha=0.33), alpha=alpha),\n",
    "    compressedGD(function, compressor=TopKCompressor(dim=dim, alpha=0.5), alpha=alpha),\n",
    "    compressedGD(function, compressor=RandKCompressor(dim=dim, alpha=0.33), alpha=alpha),\n",
    "    compressedGD(function, compressor=RandKCompressor(dim=dim, alpha=0.33), alpha=alpha),\n",
    "    compressedGD(function, compressor=ReduceProbabilityCompressor(dim=dim, alpha=0.33, penalty=0.25), alpha=alpha),\n",
    "]"
   ]
  },
  {
   "cell_type": "code",
   "execution_count": null,
   "id": "0b248af3",
   "metadata": {},
   "outputs": [],
   "source": [
    "new_experiments = [\n",
    "    compressedGD(function, compressor=PenaltyCompressor(dim=dim, alpha=0.5, dropsTo=0.0, step=0.333), alpha=alpha),\n",
    "    compressedGD(function, compressor=NewReduceProbabilityCompressor(dim=dim, alpha=0.5, penalty=0.5), alpha=alpha),\n",
    "]"
   ]
  },
  {
   "cell_type": "code",
   "execution_count": 4,
   "id": "c6c51709",
   "metadata": {},
   "outputs": [],
   "source": [
    "adaptive_experiments = [\n",
    "    compressedGD(function, compressor=TopUnknownCompressor(dim=dim, beta=1), alpha=alpha),\n",
    "]"
   ]
  },
  {
   "cell_type": "code",
   "execution_count": null,
   "id": "042e1d33",
   "metadata": {},
   "outputs": [],
   "source": [
    "experiments = base_experiments + new_experiments + adaptive_experiments\n",
    "experiments.sort(key=lambda exp : exp['coords'][-1])\n",
    "\n",
    "table = [\n",
    "    [\"compression\", \"num_iter\", \"transmitted coordinates\"],\n",
    "    *[\n",
    "        [exp['name'], exp['num_iter'], exp['coords'][-1]]\n",
    "        for exp in experiments\n",
    "    ]\n",
    "]\n",
    "print(tabulate(table))"
   ]
  },
  {
   "cell_type": "code",
   "execution_count": null,
   "id": "7a8fa488",
   "metadata": {},
   "outputs": [],
   "source": [
    "plt.figure(figsize=(10, 7))\n",
    "for exp in experiments:\n",
    "    plt.semilogy(\n",
    "        exp['coords'],\n",
    "        [grad_norm for grad_norm in exp['gradients']],\n",
    "        label=exp['name'],\n",
    "        linewidth=2\n",
    "    )\n",
    "plt.legend(loc=\"best\", fontsize=16)\n",
    "plt.xlabel(r\"Transmitted coordinates\", fontsize=20)\n",
    "plt.ylabel(r\"$\\|f'(x_k)\\|_2$\", fontsize=20)\n",
    "plt.xticks(fontsize=18)\n",
    "_ = plt.yticks(fontsize=18)"
   ]
  },
  {
   "cell_type": "code",
   "execution_count": null,
   "id": "53c65be1",
   "metadata": {},
   "outputs": [],
   "source": []
  }
 ],
 "metadata": {
  "kernelspec": {
   "display_name": "Python 3 (ipykernel)",
   "language": "python",
   "name": "python3"
  },
  "language_info": {
   "codemirror_mode": {
    "name": "ipython",
    "version": 3
   },
   "file_extension": ".py",
   "mimetype": "text/x-python",
   "name": "python",
   "nbconvert_exporter": "python",
   "pygments_lexer": "ipython3",
   "version": "3.11.5"
  }
 },
 "nbformat": 4,
 "nbformat_minor": 5
}
